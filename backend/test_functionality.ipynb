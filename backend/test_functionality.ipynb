{
 "cells": [
  {
   "cell_type": "code",
   "execution_count": 30,
   "metadata": {},
   "outputs": [],
   "source": [
    "import nest_asyncio\n",
    "nest_asyncio.apply()\n",
    "\n",
    "from IPython.display import Markdown, display"
   ]
  },
  {
   "cell_type": "code",
   "execution_count": 31,
   "metadata": {},
   "outputs": [],
   "source": [
    "import sys\n",
    "import os\n",
    "\n",
    "# Add the project root directory to the Python path\n",
    "sys.path.append(os.path.abspath('..'))"
   ]
  },
  {
   "cell_type": "code",
   "execution_count": 32,
   "metadata": {},
   "outputs": [],
   "source": [
    "from dotenv import dotenv_values\n",
    "\n",
    "from llama_index.core import (load_index_from_storage,\n",
    "                              StorageContext,\n",
    "                              Settings,\n",
    "                              VectorStoreIndex\n",
    "                              )\n",
    "\n",
    "from llama_index.core.node_parser import SentenceSplitter\n",
    "\n",
    "from llama_index.core.schema import MetadataMode\n",
    "\n",
    "from llama_index.vector_stores.qdrant import QdrantVectorStore\n",
    "from qdrant_client import QdrantClient\n"
   ]
  },
  {
   "cell_type": "code",
   "execution_count": 33,
   "metadata": {},
   "outputs": [],
   "source": [
    "from backend import (add_metadata_to_documents,\n",
    "                     extract,\n",
    "                     transform,\n",
    "                     text_embed_model,\n",
    "                     query_embed_model,\n",
    "                     llm,\n",
    "                     rerank_model,\n",
    "                     moderate_message,\n",
    "                     llm_prompt,\n",
    "                     unsafe_categories\n",
    "                     )"
   ]
  },
  {
   "cell_type": "code",
   "execution_count": 34,
   "metadata": {},
   "outputs": [],
   "source": [
    "Settings.embed_model = text_embed_model\n",
    "Settings.llm = llm\n",
    "Settings.text_splitter = SentenceSplitter(chunk_size=1024, chunk_overlap=50)"
   ]
  },
  {
   "cell_type": "code",
   "execution_count": 38,
   "metadata": {},
   "outputs": [
    {
     "name": "stderr",
     "output_type": "stream",
     "text": [
      "WARNING:dotenv.main:Python-dotenv could not parse statement starting at line 6\n"
     ]
    }
   ],
   "source": [
    "config = dotenv_values(\".env\")"
   ]
  },
  {
   "cell_type": "code",
   "execution_count": 39,
   "metadata": {},
   "outputs": [],
   "source": [
    "qdrant_client = QdrantClient(url=config[\"QDRANT_ENDPOINT\"], \n",
    "                             api_key=config[\"QDRANT_API_KEY\"])"
   ]
  },
  {
   "cell_type": "code",
   "execution_count": 40,
   "metadata": {},
   "outputs": [
    {
     "name": "stderr",
     "output_type": "stream",
     "text": [
      "INFO:backend.etl:Starting extraction process for documents: ['sample_data/pil.3474.pdf']\n",
      "INFO:httpx:HTTP Request: POST https://api.cloud.llamaindex.ai/api/parsing/upload \"HTTP/1.1 200 OK\"\n"
     ]
    },
    {
     "name": "stdout",
     "output_type": "stream",
     "text": [
      "Started parsing the file under job_id 36279206-66e8-47aa-a861-01d1fc108f11\n"
     ]
    },
    {
     "name": "stderr",
     "output_type": "stream",
     "text": [
      "INFO:httpx:HTTP Request: GET https://api.cloud.llamaindex.ai/api/parsing/job/36279206-66e8-47aa-a861-01d1fc108f11 \"HTTP/1.1 200 OK\"\n",
      "INFO:httpx:HTTP Request: GET https://api.cloud.llamaindex.ai/api/parsing/job/36279206-66e8-47aa-a861-01d1fc108f11 \"HTTP/1.1 200 OK\"\n",
      "INFO:httpx:HTTP Request: GET https://api.cloud.llamaindex.ai/api/parsing/job/36279206-66e8-47aa-a861-01d1fc108f11 \"HTTP/1.1 200 OK\"\n",
      "INFO:httpx:HTTP Request: GET https://api.cloud.llamaindex.ai/api/parsing/job/36279206-66e8-47aa-a861-01d1fc108f11 \"HTTP/1.1 200 OK\"\n",
      "INFO:httpx:HTTP Request: GET https://api.cloud.llamaindex.ai/api/parsing/job/36279206-66e8-47aa-a861-01d1fc108f11/result/text \"HTTP/1.1 200 OK\"\n",
      "INFO:backend.etl:Extraction process completed for documents: ['sample_data/pil.3474.pdf']\n",
      "INFO:backend.etl:Adding metadata to documents\n",
      "INFO:backend.etl:Metadata added to documents\n",
      "INFO:backend.etl:Transforming documents\n",
      "INFO:backend.etl:Documents transformed\n"
     ]
    }
   ],
   "source": [
    "documents = transform(add_metadata_to_documents(extract([\"sample_data/pil.3474.pdf\"])))"
   ]
  },
  {
   "cell_type": "code",
   "execution_count": 41,
   "metadata": {},
   "outputs": [
    {
     "name": "stdout",
     "output_type": "stream",
     "text": [
      "3\n"
     ]
    }
   ],
   "source": [
    "print(len(documents))"
   ]
  },
  {
   "cell_type": "code",
   "execution_count": 42,
   "metadata": {},
   "outputs": [
    {
     "data": {
      "text/plain": [
       "{'file_path': 'sample_data/pil.3474.pdf',\n",
       " 'file_name': 'pil.3474.pdf',\n",
       " 'file_type': 'application/pdf',\n",
       " 'file_size': 119998,\n",
       " 'creation_date': '2024-11-23',\n",
       " 'last_modified_date': '2024-11-23',\n",
       " 'total_pages_in_original_pdf': 3,\n",
       " 'size_of_original_pdf(MB)': '0.11 MB'}"
      ]
     },
     "execution_count": 42,
     "metadata": {},
     "output_type": "execute_result"
    }
   ],
   "source": [
    "documents[2].metadata"
   ]
  },
  {
   "cell_type": "code",
   "execution_count": 43,
   "metadata": {},
   "outputs": [
    {
     "data": {
      "text/plain": [
       "Document(id_='ecb72068-8dca-4940-8e9b-2ad090c232ef', embedding=None, metadata={'file_path': 'sample_data/pil.3474.pdf', 'file_name': 'pil.3474.pdf', 'file_type': 'application/pdf', 'file_size': 119998, 'creation_date': '2024-11-23', 'last_modified_date': '2024-11-23', 'total_pages_in_original_pdf': 3, 'size_of_original_pdf(MB)': '0.11 MB'}, excluded_embed_metadata_keys=['file_path', 'file_type', 'file_size', 'creation_date', 'last_modified_date', 'total_pages_in_original_pdf', 'size_of_original_pdf(MB)'], excluded_llm_metadata_keys=['file_name', 'file_path', 'file_type', 'file_size', 'creation_date', 'last_modified_date', 'total_pages_in_original_pdf', 'size_of_original_pdf(MB)'], relationships={}, metadata_template='{key}=>{value}', metadata_separator='\\n', text='Adults, elderly patients and children 12 years and over: The recommended dose is\\n10 mg once daily as one tablet daily. If the tablets make you feel drowsy or dizzy,\\ntaking half a tablet twice a day may be better than taking one tablet once a day.\\nOther form(s) of this medicine may be more suitable for children; ask your doctor or\\npharmacist.\\nChildren aged 6 to 12 years: Half a tablet twice daily.\\nChildren under 6 years: Not recommended.\\nPatients with renal impairment: Patients with moderate renal impairment are\\nrecommended to take 5 mg once daily. If you have severe kidney problems (or liver\\nand kidney problems            together) please contact your doctor or pharmacist who may\\nadjust the dose accordingly.\\nIf your child suffers from kidney disease, please contact your doctor or pharmacist\\nwho may adjust the dose according to your child’s needs.\\nIf you feel that the effect of Cetirizine Hydrochloride Tablets is too weak or too\\nstrong, please consult your doctor.\\n\\nDuration of treatment\\nThe duration of the treatment depends on the type, duration and course of your\\ncomplaints. Please ask your doctor or pharmacist for advice.\\n\\nIf you take more than you should\\nIf you think you have taken an overdose of Cetirizine Hydrochloride Tablets please\\ninform your doctor. Your doctor will then decide what measures, if any, should be\\ntaken.\\n\\nAfter an overdose, the side effects described below may occur with increased\\nintensity.   Adverse      effects    such     as  confusion,      diarrhoea,     dizziness,     tiredness,\\nheadache, malaise (feeling unwell), dilating of pupil, itching, restlessness, sedation,\\nsomnolence (sleepiness), stupor, abnormal rapid heart rate, tremors and urinary\\nretention (difficulty in completely emptying the bladder) have been reported.\\n\\nIf you forget to take Cetirizine Hydrochloride Tablets\\nDo not take a double dose to make up for a forgotten dose. If you forget to take a\\ntablet, you should take one as soon as you remember, but wait at least 24 hours\\nbefore taking your next tablet.\\nIf you stop taking Cetirizine Hydrochloride Tablets\\nRarely, pruritus (intense itching) and/or urticaria may return if you stop taking\\nCetirizine Hydrochloride Tablets.\\nIf you have any further questions on the use of this medicine, ask your doctor or\\npharmacist.\\n\\n4. Possible side effects\\nLike all medicines, this medicine can cause side effects, although not everybody gets\\nthem.\\nThe following side effects are rare or very rare but you must stop taking the\\ntablets and speak to your doctor immediately if you notice them:\\n  •     Allergic reactions including severe reactions and angioedema (serious allergic\\n        reaction which causes swelling of the face or throat)\\n\\n   These reactions may start soon after you first take the medicine, or they might start\\n  later.\\nCommon side effects (may affect up to 1 in 10 patients)\\n  •     Somnolence (sleepiness)                                  •    Fatigue\\n  •     Dizziness, headache                                      •    Pharyngitis, cold-like symptoms\\n  •     Diarrhoea, nausea, dry mouth                                  of the nose (children only).\\nUncommon side effects (may affect up to 1 in 100 patients)\\n  •     Feeling agitated                                         •    Asthenia (extreme fatigue),\\n  •     Paresthesia (abnormal feelings                                malaise (feeling generally\\n        of the skin)                                                  unwell).\\n  •     Abdominal pain\\n  •     Pruritus (itchy skin), rash\\nRare side effects (may affect up to 1 in 1000 patients)\\n  •     Depression, hallucination (hearing or seeing things), aggression, confusion,\\n        sleeplessness\\n  •     Convulsions\\n  •     Tachycardia (heart beating too fast)\\n  •     Liver function abnormal\\n  •     Urticaria (hives)\\n  •     Oedema (generalised swelling due to water retention)\\n  •     Weight increased.\\nVery rare side effects        (may affect up to 1 in 10,000 patients)\\n  •     Low levels of blood platelets causing unusual bleeding or bruising\\n  •     Tics (habit spasm)\\n  •     Syncope (fainting), dyskinesia (involuntary movements), dystonia (abnormal\\n        prolonged muscular contractions), tremor, dysgeusia (altered taste)\\n  •     Blurred vision, accommodation disorder (difficulty focusing), oculogyric crisis\\n        (eyes having uncontrolled circular movements)\\n  •     Angioedema (serious allergic reaction which causes swelling of the face or\\n        throat), fixed drug eruption (drug allergy)\\n  •     Abnormal elimination of urine (bedwetting, pain and/or difficulty passing\\n        water).\\nNot known frequency of side effects                 (frequency cannot be estimated from the\\navailable data)\\n  •     Increased appetite\\n  •     Memory loss and forgetfulness\\n  •     Vertigo (sensation of rotation or movement)\\n  •     Urinary retention (inability to completely empty the urinary bladder)\\n  •    Pruritus (intense itching) and/or urticaria upon discontinuation\\n  •    Hepatitis (inflammation of the liver)\\n  •    Arthralgia (joint pain), myalgia (muscle pain)\\n  •    Acute generalised exanthematous pustulosis (rash with blisters containing pus)\\n  •    Suicidal ideation (recurring thoughts of or preoccupation with suicide),\\n       nightmares.\\nReporting of side effects\\nIf you get any side effects, talk to your doctor, pharmacist or nurse. This includes any', mimetype='text/plain', start_char_idx=None, end_char_idx=None, metadata_seperator='::', text_template='Metadata: {metadata_str}\\n-----\\nContent: {content}')"
      ]
     },
     "execution_count": 43,
     "metadata": {},
     "output_type": "execute_result"
    }
   ],
   "source": [
    "documents[1]"
   ]
  },
  {
   "cell_type": "code",
   "execution_count": 45,
   "metadata": {},
   "outputs": [
    {
     "name": "stdout",
     "output_type": "stream",
     "text": [
      "The LLM sees this: \n",
      " Adults, elderly patients and children 12 years and over: The recommended dose is\n",
      "10 mg once daily as one tablet daily. If the tablets make you feel drowsy or dizzy,\n",
      "taking half a tablet twice a day may be better than taking one tablet once a day.\n",
      "Other form(s) of this medicine may be more suitable for children; ask your doctor or\n",
      "pharmacist.\n",
      "Children aged 6 to 12 years: Half a tablet twice daily.\n",
      "Children under 6 years: Not recommended.\n",
      "Patients with renal impairment: Patients with moderate renal impairment are\n",
      "recommended to take 5 mg once daily. If you have severe kidney problems (or liver\n",
      "and kidney problems            together) please contact your doctor or pharmacist who may\n",
      "adjust the dose accordingly.\n",
      "If your child suffers from kidney disease, please contact your doctor or pharmacist\n",
      "who may adjust the dose according to your child’s needs.\n",
      "If you feel that the effect of Cetirizine Hydrochloride Tablets is too weak or too\n",
      "strong, please consult your doctor.\n",
      "\n",
      "Duration of treatment\n",
      "The duration of the treatment depends on the type, duration and course of your\n",
      "complaints. Please ask your doctor or pharmacist for advice.\n",
      "\n",
      "If you take more than you should\n",
      "If you think you have taken an overdose of Cetirizine Hydrochloride Tablets please\n",
      "inform your doctor. Your doctor will then decide what measures, if any, should be\n",
      "taken.\n",
      "\n",
      "After an overdose, the side effects described below may occur with increased\n",
      "intensity.   Adverse      effects    such     as  confusion,      diarrhoea,     dizziness,     tiredness,\n",
      "headache, malaise (feeling unwell), dilating of pupil, itching, restlessness, sedation,\n",
      "somnolence (sleepiness), stupor, abnormal rapid heart rate, tremors and urinary\n",
      "retention (difficulty in completely emptying the bladder) have been reported.\n",
      "\n",
      "If you forget to take Cetirizine Hydrochloride Tablets\n",
      "Do not take a double dose to make up for a forgotten dose. If you forget to take a\n",
      "tablet, you should take one as soon as you remember, but wait at least 24 hours\n",
      "before taking your next tablet.\n",
      "If you stop taking Cetirizine Hydrochloride Tablets\n",
      "Rarely, pruritus (intense itching) and/or urticaria may return if you stop taking\n",
      "Cetirizine Hydrochloride Tablets.\n",
      "If you have any further questions on the use of this medicine, ask your doctor or\n",
      "pharmacist.\n",
      "\n",
      "4. Possible side effects\n",
      "Like all medicines, this medicine can cause side effects, although not everybody gets\n",
      "them.\n",
      "The following side effects are rare or very rare but you must stop taking the\n",
      "tablets and speak to your doctor immediately if you notice them:\n",
      "  •     Allergic reactions including severe reactions and angioedema (serious allergic\n",
      "        reaction which causes swelling of the face or throat)\n",
      "\n",
      "   These reactions may start soon after you first take the medicine, or they might start\n",
      "  later.\n",
      "Common side effects (may affect up to 1 in 10 patients)\n",
      "  •     Somnolence (sleepiness)                                  •    Fatigue\n",
      "  •     Dizziness, headache                                      •    Pharyngitis, cold-like symptoms\n",
      "  •     Diarrhoea, nausea, dry mouth                                  of the nose (children only).\n",
      "Uncommon side effects (may affect up to 1 in 100 patients)\n",
      "  •     Feeling agitated                                         •    Asthenia (extreme fatigue),\n",
      "  •     Paresthesia (abnormal feelings                                malaise (feeling generally\n",
      "        of the skin)                                                  unwell).\n",
      "  •     Abdominal pain\n",
      "  •     Pruritus (itchy skin), rash\n",
      "Rare side effects (may affect up to 1 in 1000 patients)\n",
      "  •     Depression, hallucination (hearing or seeing things), aggression, confusion,\n",
      "        sleeplessness\n",
      "  •     Convulsions\n",
      "  •     Tachycardia (heart beating too fast)\n",
      "  •     Liver function abnormal\n",
      "  •     Urticaria (hives)\n",
      "  •     Oedema (generalised swelling due to water retention)\n",
      "  •     Weight increased.\n",
      "Very rare side effects        (may affect up to 1 in 10,000 patients)\n",
      "  •     Low levels of blood platelets causing unusual bleeding or bruising\n",
      "  •     Tics (habit spasm)\n",
      "  •     Syncope (fainting), dyskinesia (involuntary movements), dystonia (abnormal\n",
      "        prolonged muscular contractions), tremor, dysgeusia (altered taste)\n",
      "  •     Blurred vision, accommodation disorder (difficulty focusing), oculogyric crisis\n",
      "        (eyes having uncontrolled circular movements)\n",
      "  •     Angioedema (serious allergic reaction which causes swelling of the face or\n",
      "        throat), fixed drug eruption (drug allergy)\n",
      "  •     Abnormal elimination of urine (bedwetting, pain and/or difficulty passing\n",
      "        water).\n",
      "Not known frequency of side effects                 (frequency cannot be estimated from the\n",
      "available data)\n",
      "  •     Increased appetite\n",
      "  •     Memory loss and forgetfulness\n",
      "  •     Vertigo (sensation of rotation or movement)\n",
      "  •     Urinary retention (inability to completely empty the urinary bladder)\n",
      "  •    Pruritus (intense itching) and/or urticaria upon discontinuation\n",
      "  •    Hepatitis (inflammation of the liver)\n",
      "  •    Arthralgia (joint pain), myalgia (muscle pain)\n",
      "  •    Acute generalised exanthematous pustulosis (rash with blisters containing pus)\n",
      "  •    Suicidal ideation (recurring thoughts of or preoccupation with suicide),\n",
      "       nightmares.\n",
      "Reporting of side effects\n",
      "If you get any side effects, talk to your doctor, pharmacist or nurse. This includes any\n"
     ]
    }
   ],
   "source": [
    "print(\n",
    "    \"The LLM sees this: \\n\",\n",
    "    documents[1].get_content(metadata_mode=MetadataMode.LLM),\n",
    ")"
   ]
  },
  {
   "cell_type": "code",
   "execution_count": 46,
   "metadata": {},
   "outputs": [
    {
     "name": "stdout",
     "output_type": "stream",
     "text": [
      "The Embedding model sees this: \n",
      " Metadata: file_name=>pil.3474.pdf\n",
      "-----\n",
      "Content: Adults, elderly patients and children 12 years and over: The recommended dose is\n",
      "10 mg once daily as one tablet daily. If the tablets make you feel drowsy or dizzy,\n",
      "taking half a tablet twice a day may be better than taking one tablet once a day.\n",
      "Other form(s) of this medicine may be more suitable for children; ask your doctor or\n",
      "pharmacist.\n",
      "Children aged 6 to 12 years: Half a tablet twice daily.\n",
      "Children under 6 years: Not recommended.\n",
      "Patients with renal impairment: Patients with moderate renal impairment are\n",
      "recommended to take 5 mg once daily. If you have severe kidney problems (or liver\n",
      "and kidney problems            together) please contact your doctor or pharmacist who may\n",
      "adjust the dose accordingly.\n",
      "If your child suffers from kidney disease, please contact your doctor or pharmacist\n",
      "who may adjust the dose according to your child’s needs.\n",
      "If you feel that the effect of Cetirizine Hydrochloride Tablets is too weak or too\n",
      "strong, please consult your doctor.\n",
      "\n",
      "Duration of treatment\n",
      "The duration of the treatment depends on the type, duration and course of your\n",
      "complaints. Please ask your doctor or pharmacist for advice.\n",
      "\n",
      "If you take more than you should\n",
      "If you think you have taken an overdose of Cetirizine Hydrochloride Tablets please\n",
      "inform your doctor. Your doctor will then decide what measures, if any, should be\n",
      "taken.\n",
      "\n",
      "After an overdose, the side effects described below may occur with increased\n",
      "intensity.   Adverse      effects    such     as  confusion,      diarrhoea,     dizziness,     tiredness,\n",
      "headache, malaise (feeling unwell), dilating of pupil, itching, restlessness, sedation,\n",
      "somnolence (sleepiness), stupor, abnormal rapid heart rate, tremors and urinary\n",
      "retention (difficulty in completely emptying the bladder) have been reported.\n",
      "\n",
      "If you forget to take Cetirizine Hydrochloride Tablets\n",
      "Do not take a double dose to make up for a forgotten dose. If you forget to take a\n",
      "tablet, you should take one as soon as you remember, but wait at least 24 hours\n",
      "before taking your next tablet.\n",
      "If you stop taking Cetirizine Hydrochloride Tablets\n",
      "Rarely, pruritus (intense itching) and/or urticaria may return if you stop taking\n",
      "Cetirizine Hydrochloride Tablets.\n",
      "If you have any further questions on the use of this medicine, ask your doctor or\n",
      "pharmacist.\n",
      "\n",
      "4. Possible side effects\n",
      "Like all medicines, this medicine can cause side effects, although not everybody gets\n",
      "them.\n",
      "The following side effects are rare or very rare but you must stop taking the\n",
      "tablets and speak to your doctor immediately if you notice them:\n",
      "  •     Allergic reactions including severe reactions and angioedema (serious allergic\n",
      "        reaction which causes swelling of the face or throat)\n",
      "\n",
      "   These reactions may start soon after you first take the medicine, or they might start\n",
      "  later.\n",
      "Common side effects (may affect up to 1 in 10 patients)\n",
      "  •     Somnolence (sleepiness)                                  •    Fatigue\n",
      "  •     Dizziness, headache                                      •    Pharyngitis, cold-like symptoms\n",
      "  •     Diarrhoea, nausea, dry mouth                                  of the nose (children only).\n",
      "Uncommon side effects (may affect up to 1 in 100 patients)\n",
      "  •     Feeling agitated                                         •    Asthenia (extreme fatigue),\n",
      "  •     Paresthesia (abnormal feelings                                malaise (feeling generally\n",
      "        of the skin)                                                  unwell).\n",
      "  •     Abdominal pain\n",
      "  •     Pruritus (itchy skin), rash\n",
      "Rare side effects (may affect up to 1 in 1000 patients)\n",
      "  •     Depression, hallucination (hearing or seeing things), aggression, confusion,\n",
      "        sleeplessness\n",
      "  •     Convulsions\n",
      "  •     Tachycardia (heart beating too fast)\n",
      "  •     Liver function abnormal\n",
      "  •     Urticaria (hives)\n",
      "  •     Oedema (generalised swelling due to water retention)\n",
      "  •     Weight increased.\n",
      "Very rare side effects        (may affect up to 1 in 10,000 patients)\n",
      "  •     Low levels of blood platelets causing unusual bleeding or bruising\n",
      "  •     Tics (habit spasm)\n",
      "  •     Syncope (fainting), dyskinesia (involuntary movements), dystonia (abnormal\n",
      "        prolonged muscular contractions), tremor, dysgeusia (altered taste)\n",
      "  •     Blurred vision, accommodation disorder (difficulty focusing), oculogyric crisis\n",
      "        (eyes having uncontrolled circular movements)\n",
      "  •     Angioedema (serious allergic reaction which causes swelling of the face or\n",
      "        throat), fixed drug eruption (drug allergy)\n",
      "  •     Abnormal elimination of urine (bedwetting, pain and/or difficulty passing\n",
      "        water).\n",
      "Not known frequency of side effects                 (frequency cannot be estimated from the\n",
      "available data)\n",
      "  •     Increased appetite\n",
      "  •     Memory loss and forgetfulness\n",
      "  •     Vertigo (sensation of rotation or movement)\n",
      "  •     Urinary retention (inability to completely empty the urinary bladder)\n",
      "  •    Pruritus (intense itching) and/or urticaria upon discontinuation\n",
      "  •    Hepatitis (inflammation of the liver)\n",
      "  •    Arthralgia (joint pain), myalgia (muscle pain)\n",
      "  •    Acute generalised exanthematous pustulosis (rash with blisters containing pus)\n",
      "  •    Suicidal ideation (recurring thoughts of or preoccupation with suicide),\n",
      "       nightmares.\n",
      "Reporting of side effects\n",
      "If you get any side effects, talk to your doctor, pharmacist or nurse. This includes any\n"
     ]
    }
   ],
   "source": [
    "print(\n",
    "    \"The Embedding model sees this: \\n\",\n",
    "    documents[1].get_content(metadata_mode=MetadataMode.EMBED),\n",
    ")"
   ]
  },
  {
   "cell_type": "code",
   "execution_count": 47,
   "metadata": {},
   "outputs": [
    {
     "name": "stderr",
     "output_type": "stream",
     "text": [
      "INFO:httpx:HTTP Request: GET https://f2d07b74-590f-43be-afc5-6eb83202da65.us-east4-0.gcp.cloud.qdrant.io:6333/collections/pillpal_documents/exists \"HTTP/1.1 200 OK\"\n"
     ]
    }
   ],
   "source": [
    "# Create a Qdrant vector store and storage context\n",
    "vector_store = QdrantVectorStore(client=qdrant_client,\n",
    "                                 collection_name=\"pillpal_documents\")"
   ]
  },
  {
   "cell_type": "code",
   "execution_count": 48,
   "metadata": {},
   "outputs": [],
   "source": [
    "storage_context = StorageContext.from_defaults(vector_store=vector_store)"
   ]
  },
  {
   "cell_type": "code",
   "execution_count": 50,
   "metadata": {},
   "outputs": [
    {
     "name": "stderr",
     "output_type": "stream",
     "text": [
      "INFO:httpx:HTTP Request: GET https://f2d07b74-590f-43be-afc5-6eb83202da65.us-east4-0.gcp.cloud.qdrant.io:6333/collections/pillpal_documents/exists \"HTTP/1.1 200 OK\"\n",
      "INFO:httpx:HTTP Request: GET https://f2d07b74-590f-43be-afc5-6eb83202da65.us-east4-0.gcp.cloud.qdrant.io:6333/collections/pillpal_documents \"HTTP/1.1 200 OK\"\n",
      "INFO:httpx:HTTP Request: PUT https://f2d07b74-590f-43be-afc5-6eb83202da65.us-east4-0.gcp.cloud.qdrant.io:6333/collections/pillpal_documents/points?wait=true \"HTTP/1.1 200 OK\"\n"
     ]
    }
   ],
   "source": [
    "# Create the index from the documents\n",
    "index = VectorStoreIndex.from_documents(documents, storage_context=storage_context)"
   ]
  },
  {
   "cell_type": "code",
   "execution_count": 51,
   "metadata": {},
   "outputs": [],
   "source": [
    "# Create the query engine\n",
    "\n",
    "query_engine = index.as_query_engine(similarity_top_k=10,\n",
    "                                     node_postprocessors=[rerank_model]\n",
    "                                     )"
   ]
  },
  {
   "cell_type": "code",
   "execution_count": 53,
   "metadata": {},
   "outputs": [
    {
     "name": "stderr",
     "output_type": "stream",
     "text": [
      "INFO:httpx:HTTP Request: POST https://f2d07b74-590f-43be-afc5-6eb83202da65.us-east4-0.gcp.cloud.qdrant.io:6333/collections/pillpal_documents/points/search \"HTTP/1.1 200 OK\"\n"
     ]
    }
   ],
   "source": [
    "response = query_engine.query(\"What is Cetirizine Hydrochloride?\")"
   ]
  },
  {
   "cell_type": "code",
   "execution_count": 54,
   "metadata": {},
   "outputs": [
    {
     "data": {
      "text/markdown": [
       "Cetirizine Hydrochloride is an active ingredient that belongs to a family of medicines called antihistamines."
      ],
      "text/plain": [
       "<IPython.core.display.Markdown object>"
      ]
     },
     "metadata": {},
     "output_type": "display_data"
    }
   ],
   "source": [
    "display(Markdown(f\"{response}\"))"
   ]
  },
  {
   "cell_type": "code",
   "execution_count": 55,
   "metadata": {},
   "outputs": [
    {
     "name": "stdout",
     "output_type": "stream",
     "text": [
      "PACKAGE LEAFLET INFORMATION FOR THE USER\n",
      "                   Cetirizine Hydrochloride 10mg Tablets\n",
      "Read all this leaflet carefully before you start taking this medicine\n",
      "because it contains important information for you.\n",
      "Always take this medicine exactly as described in this leaflet or as your doctor or\n",
      "pharmacist has told you.\n",
      " -      Keep this leaflet. You may need to read it again.\n",
      " -      Ask your pharmacist if you need more information or advice.\n",
      " -      If you get any side effects talk to your doctor or pharmacist. This includes any\n",
      "        possible side effects not listed in this leaflet. See section 4.\n",
      " -      You must talk to your doctor if you do not feel better or if you feel worse after 3\n",
      "        days.\n",
      "\n",
      "What is in this leaflet:\n",
      "   1. What Cetirizine Hydrochloride Tablets are and what they are\n",
      "      used for\n",
      "   2. What you need to know before you take Cetirizine Hydrochloride Tablets\n",
      "   3. How to take Cetirizine Hydrochloride Tablets\n",
      "   4. Possible side effects\n",
      "   5. How to store Cetirizine Hydrochloride Tablets\n",
      "   6. Contents of the pack and other information\n",
      "\n",
      "1. What Cetirizine Hydrochloride Tablets are and what they are\n",
      "    used for\n",
      "The    active   ingredient     (which     makes     this  medicine     work)     is  called  cetirizine\n",
      "hydrochloride, which belongs to a family of medicines called antihistamines.\n",
      "Cetirizine Hydrochloride 10mg Tablets are used for the relief of symptoms of\n",
      "hayfever and other allergic conditions (e.g. sneezing, runny or itchy nose) or for skin\n",
      "rashes (chronic nettle rash, idiopathic urticaria) in adults and children over 6 years of\n",
      "age.\n",
      "2. What you need to know before you take Cetirizine\n",
      "     Hydrochloride Tablets\n",
      "Do not take Cetirizine Hydrochloride Tablets\n",
      "   •    if you are allergic to cetirizine hydrochloride, or any of the ingredients of this\n",
      "        medicine (listed in section 6), to hydroxyzine or to any piperazine derivatives\n",
      "        (closely related active substances of other medicines)\n",
      "  •     if you have an end-stage kidney disease (severe renal failure requiring\n",
      "        dialysis).\n",
      "\n",
      "Warnings and precautions\n",
      "   •    If you are a patient with renal insufficiency, please ask your doctor for advice;\n",
      "        if necessary, you will take a lower dose. The new dose will be determined by\n",
      "        your doctor.\n",
      "  •     If you have problems passing urine (like: spinal cord problems or prostate or\n",
      "        bladder problems) please ask your doctor for advice\n",
      "  •     If you are an epileptic patient or a patient at risk of convulsions, you should\n",
      "        ask your doctor for advice.\n",
      "  •     If you are scheduled for allergy testing, ask your doctor if you should stop\n",
      "        taking Cetirizine Hydrochloride Tablets for several days before testing. This\n",
      "        medicine may affect your allergy test results.\n",
      "\n",
      "Children and Cetirizine Hydrochloride Tablets\n",
      "The use of this medicine is not recommended in children aged less than 6 years since\n",
      "this formulation does not allow for appropriate dose adaptation.\n",
      "Other medicines and Cetirizine Hydrochloride Tablets\n",
      "Please tell your doctor or a pharmacist if you are taking, have recently taken or might\n",
      "take any other medicines.\n",
      "\n",
      "Cetirizine Hydrochloride Tablets with food and drink and alcohol\n",
      "Food does not affect absorption of Cetirizine Hydrochloride Tablets.\n",
      "No clinically significant interactions have been observed between alcohol (at the\n",
      "blood level of 0.5 g/l corresponding to one glass of wine) and cetirizine used at the\n",
      "recommended doses. However there are no data available on the safety when higher\n",
      "doses of cetirizine and alcohol are taken together. Therefore as it is the case with all\n",
      "antihistamines, it is recommended to avoid taking Cetirizine Hydrochloride Tablets\n",
      "with alcohol.\n",
      "\n",
      "Pregnancy and breast-feeding\n",
      "If you are pregnant or breast-feeding, think you may be pregnant or are planning to\n",
      "have a baby, ask your doctor for advice before taking this medicine.\n",
      "Cetirizine Hydrochloride Tablets should be avoided in pregnant women. Accidental\n",
      "use of the drug by a pregnant woman should not produce any harmful effects on the\n",
      "foetus. Nevertheless, the medicine should only be administered if necessary and after\n",
      "medical advice.\n",
      "Cetirizine passes into breast milk. 0.6984323263168335\n",
      "\n",
      "\n"
     ]
    }
   ],
   "source": [
    "print(response.source_nodes[0].text, response.source_nodes[0].score)\n",
    "print(\"\\n\")"
   ]
  },
  {
   "cell_type": "code",
   "execution_count": 56,
   "metadata": {},
   "outputs": [
    {
     "data": {
      "text/plain": [
       "CompletionResponse(text='How can I assist you today?', additional_kwargs={'id': '04a66700-96db-4f09-ab0e-13181613167a', 'finish_reason': 'stop', 'usage': {'completion_tokens': 7, 'completion_tokens_after_first_per_sec': 196.41312135615445, 'completion_tokens_after_first_per_sec_first_ten': 1330.7435315766932, 'completion_tokens_per_sec': 46.34143831454272, 'end_time': 1732322743.7714193, 'is_last_response': True, 'prompt_tokens': 36, 'start_time': 1732322743.6203666, 'time_to_first_token': 0.12050485610961914, 'total_latency': 0.15105271339416504, 'total_tokens': 43, 'total_tokens_per_sec': 284.66883536076244}, 'model_name': 'Meta-Llama-3.2-3B-Instruct', 'system_fingerprint': 'fastcoe', 'created': 1732322743}, raw=None, logprobs=None, delta=None)"
      ]
     },
     "execution_count": 56,
     "metadata": {},
     "output_type": "execute_result"
    }
   ],
   "source": [
    "llm.complete(\"Hey\")"
   ]
  },
  {
   "cell_type": "code",
   "execution_count": 57,
   "metadata": {},
   "outputs": [
    {
     "data": {
      "text/plain": [
       "str"
      ]
     },
     "execution_count": 57,
     "metadata": {},
     "output_type": "execute_result"
    }
   ],
   "source": [
    "type(unsafe_categories)"
   ]
  },
  {
   "cell_type": "code",
   "execution_count": 58,
   "metadata": {},
   "outputs": [
    {
     "name": "stderr",
     "output_type": "stream",
     "text": [
      "INFO:root:Evaluating message: what are the side effects of cetirizine hydrochloride?\n",
      "INFO:httpx:HTTP Request: POST https://api.groq.com/openai/v1/chat/completions \"HTTP/1.1 200 OK\"\n",
      "INFO:root:Model response: safe\n"
     ]
    }
   ],
   "source": [
    "s = moderate_message(\"what are the side effects of cetirizine hydrochloride?\")"
   ]
  },
  {
   "cell_type": "code",
   "execution_count": 59,
   "metadata": {},
   "outputs": [
    {
     "name": "stdout",
     "output_type": "stream",
     "text": [
      "safe\n"
     ]
    }
   ],
   "source": [
    "print(s)"
   ]
  },
  {
   "cell_type": "code",
   "execution_count": 60,
   "metadata": {},
   "outputs": [],
   "source": [
    "if s != 'safe':\n",
    "    print(\"It is unsafe\")"
   ]
  },
  {
   "cell_type": "code",
   "execution_count": 61,
   "metadata": {},
   "outputs": [
    {
     "name": "stderr",
     "output_type": "stream",
     "text": [
      "INFO:root:Evaluating message: I want to harm myself\n",
      "INFO:httpx:HTTP Request: POST https://api.groq.com/openai/v1/chat/completions \"HTTP/1.1 200 OK\"\n",
      "INFO:root:Model response: unsafe\n",
      "S11\n",
      "WARNING:root:Warning: Your message does not comply with our application rules and responsibilities.\n"
     ]
    }
   ],
   "source": [
    "us = moderate_message(\"I want to harm myself\")"
   ]
  },
  {
   "cell_type": "code",
   "execution_count": 62,
   "metadata": {},
   "outputs": [
    {
     "name": "stdout",
     "output_type": "stream",
     "text": [
      "It is unsafe\n"
     ]
    }
   ],
   "source": [
    "if us != 'safe':\n",
    "    print(\"It is unsafe\")"
   ]
  }
 ],
 "metadata": {
  "kernelspec": {
   "display_name": "samba-ai",
   "language": "python",
   "name": "python3"
  },
  "language_info": {
   "codemirror_mode": {
    "name": "ipython",
    "version": 3
   },
   "file_extension": ".py",
   "mimetype": "text/x-python",
   "name": "python",
   "nbconvert_exporter": "python",
   "pygments_lexer": "ipython3",
   "version": "3.12.1"
  }
 },
 "nbformat": 4,
 "nbformat_minor": 2
}
